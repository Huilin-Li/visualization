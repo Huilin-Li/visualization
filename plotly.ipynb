{
 "cells": [
  {
   "cell_type": "code",
   "execution_count": 17,
   "metadata": {
    "collapsed": true
   },
   "outputs": [
    {
     "name": "stdout",
     "output_type": "stream",
     "text": [
      "Collecting kaleido\n",
      "  Downloading kaleido-0.2.1-py2.py3-none-win_amd64.whl (65.9 MB)\n",
      "Installing collected packages: kaleido\n",
      "Successfully installed kaleido-0.2.1\n",
      "Note: you may need to restart the kernel to use updated packages.\n"
     ]
    }
   ],
   "source": [
    "pip install -U kaleido"
   ]
  },
  {
   "cell_type": "markdown",
   "metadata": {},
   "source": [
    "# double y-axis, bar chart with line chart, legend position, two groups"
   ]
  },
  {
   "cell_type": "code",
   "execution_count": 8,
   "metadata": {},
   "outputs": [],
   "source": [
    "import plotly.graph_objects as go\n",
    "import pandas as pd\n",
    "import numpy as np\n",
    "from plotly.subplots import make_subplots\n",
    "import plotly.offline as py"
   ]
  },
  {
   "cell_type": "code",
   "execution_count": 6,
   "metadata": {},
   "outputs": [],
   "source": [
    "X_list = ['1', '2', '3', '4', '5']\n",
    "# group1\n",
    "y1_bar = [30, 40, 100, 24, 10]\n",
    "y1_line = [3, 4, 10, 2.4, 1]\n",
    "\n",
    "# group2\n",
    "y2_bar = [44, 56, 140, 63, 15]\n",
    "y2_line = [5, 1, 0, 0.9, 1]"
   ]
  },
  {
   "cell_type": "code",
   "execution_count": null,
   "metadata": {},
   "outputs": [],
   "source": []
  },
  {
   "cell_type": "code",
   "execution_count": 7,
   "metadata": {},
   "outputs": [],
   "source": [
    "fig = make_subplots(specs=[[{\"secondary_y\": True}]])\n",
    "\n",
    "# group1\n",
    "fig.add_trace(go.Bar(\n",
    "    x=X_list,\n",
    "    y=y1_bar,\n",
    "    name='group1',\n",
    "    marker_color='indianred'\n",
    "),\n",
    "    secondary_y=False)\n",
    "\n",
    "fig.add_trace(go.Scatter(x=X_list, y=y1_line,\n",
    "                    mode='lines+markers',\n",
    "                    name='group1',\n",
    "                    marker_color='red'),\n",
    "             secondary_y=True)\n",
    "                    \n",
    "# group2\n",
    "fig.add_trace(go.Bar(\n",
    "    x=X_list,\n",
    "    y=y1_bar,\n",
    "    name='group2',\n",
    "    marker_color='lightsalmon'\n",
    "),\n",
    "    secondary_y=False)\n",
    "\n",
    "fig.add_trace(go.Scatter(x=X_list, y=y2_line,\n",
    "                    mode='lines+markers',\n",
    "                    name='group1',\n",
    "                    marker_color='blue'),\n",
    "             secondary_y=True)\n",
    "                    \n",
    "# Add figure title\n",
    "# fig.update_layout(\n",
    "#     title_text=\"Double Y Axis Example\"\n",
    "# )\n",
    "\n",
    "# Set x-axis title\n",
    "fig.update_xaxes(title_text=\"x axis title\")\n",
    "\n",
    "# Set y-axes titles\n",
    "fig.update_yaxes(title_text=\"<b>one title</b>\", secondary_y=False)\n",
    "fig.update_yaxes(title_text=\"<b>another title</b>\", secondary_y=True)\n",
    "\n",
    "fig.update_layout(legend=dict(\n",
    "    orientation=\"h\",\n",
    "    yanchor=\"bottom\",\n",
    "    y=1.02,\n",
    "    xanchor=\"right\",\n",
    "    x=0.94\n",
    "))\n",
    "\n",
    "fig.write_image(\"op.png\")\n",
    "# fig.show()"
   ]
  },
  {
   "cell_type": "code",
   "execution_count": null,
   "metadata": {},
   "outputs": [],
   "source": []
  },
  {
   "cell_type": "code",
   "execution_count": null,
   "metadata": {},
   "outputs": [],
   "source": []
  }
 ],
 "metadata": {
  "kernelspec": {
   "display_name": "Python 3",
   "language": "python",
   "name": "python3"
  },
  "language_info": {
   "codemirror_mode": {
    "name": "ipython",
    "version": 3
   },
   "file_extension": ".py",
   "mimetype": "text/x-python",
   "name": "python",
   "nbconvert_exporter": "python",
   "pygments_lexer": "ipython3",
   "version": "3.7.1"
  }
 },
 "nbformat": 4,
 "nbformat_minor": 4
}
